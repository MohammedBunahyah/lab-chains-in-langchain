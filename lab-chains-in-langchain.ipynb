{
 "cells": [
  {
   "cell_type": "markdown",
   "id": "52824b89-532a-4e54-87e9-1410813cd39e",
   "metadata": {},
   "source": [
    "# Lab | Chains in LangChain\n",
    "\n",
    "## Outline\n",
    "\n",
    "* LLMChain\n",
    "* Sequential Chains\n",
    "  * SimpleSequentialChain\n",
    "  * SequentialChain\n",
    "* Router Chain"
   ]
  },
  {
   "cell_type": "code",
   "execution_count": 1,
   "id": "541eb2f1",
   "metadata": {},
   "outputs": [],
   "source": [
    "import warnings\n",
    "warnings.filterwarnings('ignore')"
   ]
  },
  {
   "cell_type": "code",
   "execution_count": 2,
   "id": "b7ed03ed-1322-49e3-b2a2-33e94fb592ef",
   "metadata": {
    "tags": []
   },
   "outputs": [],
   "source": [
    "import os\n",
    "\n",
    "from dotenv import load_dotenv, find_dotenv\n",
    "_ = load_dotenv(find_dotenv())\n",
    "\n",
    "OPENAI_API_KEY  = os.getenv('OPENAI_API_KEY')\n",
    "HUGGINGFACEHUB_API_TOKEN = os.getenv('HUGGINGFACEHUB_API_TOKEN')"
   ]
  },
  {
   "cell_type": "code",
   "execution_count": 3,
   "id": "b84e441b",
   "metadata": {
    "tags": []
   },
   "outputs": [],
   "source": [
    "#!pip install pandas"
   ]
  },
  {
   "cell_type": "code",
   "execution_count": 4,
   "id": "974acf8e-8f88-42de-88f8-40a82cb58e8b",
   "metadata": {
    "tags": []
   },
   "outputs": [],
   "source": [
    "import pandas as pd\n",
    "df = pd.read_csv('./data/Data.csv')"
   ]
  },
  {
   "cell_type": "code",
   "execution_count": 5,
   "id": "b7a09c35",
   "metadata": {
    "tags": []
   },
   "outputs": [
    {
     "data": {
      "text/html": [
       "<div>\n",
       "<style scoped>\n",
       "    .dataframe tbody tr th:only-of-type {\n",
       "        vertical-align: middle;\n",
       "    }\n",
       "\n",
       "    .dataframe tbody tr th {\n",
       "        vertical-align: top;\n",
       "    }\n",
       "\n",
       "    .dataframe thead th {\n",
       "        text-align: right;\n",
       "    }\n",
       "</style>\n",
       "<table border=\"1\" class=\"dataframe\">\n",
       "  <thead>\n",
       "    <tr style=\"text-align: right;\">\n",
       "      <th></th>\n",
       "      <th>Product</th>\n",
       "      <th>Review</th>\n",
       "    </tr>\n",
       "  </thead>\n",
       "  <tbody>\n",
       "    <tr>\n",
       "      <th>0</th>\n",
       "      <td>Queen Size Sheet Set</td>\n",
       "      <td>I ordered a king size set. My only criticism w...</td>\n",
       "    </tr>\n",
       "    <tr>\n",
       "      <th>1</th>\n",
       "      <td>Waterproof Phone Pouch</td>\n",
       "      <td>I loved the waterproof sac, although the openi...</td>\n",
       "    </tr>\n",
       "    <tr>\n",
       "      <th>2</th>\n",
       "      <td>Luxury Air Mattress</td>\n",
       "      <td>This mattress had a small hole in the top of i...</td>\n",
       "    </tr>\n",
       "    <tr>\n",
       "      <th>3</th>\n",
       "      <td>Pillows Insert</td>\n",
       "      <td>This is the best throw pillow fillers on Amazo...</td>\n",
       "    </tr>\n",
       "    <tr>\n",
       "      <th>4</th>\n",
       "      <td>Milk Frother Handheld\\n</td>\n",
       "      <td>I loved this product. But they only seem to l...</td>\n",
       "    </tr>\n",
       "  </tbody>\n",
       "</table>\n",
       "</div>"
      ],
      "text/plain": [
       "                   Product                                             Review\n",
       "0     Queen Size Sheet Set  I ordered a king size set. My only criticism w...\n",
       "1   Waterproof Phone Pouch  I loved the waterproof sac, although the openi...\n",
       "2      Luxury Air Mattress  This mattress had a small hole in the top of i...\n",
       "3           Pillows Insert  This is the best throw pillow fillers on Amazo...\n",
       "4  Milk Frother Handheld\\n   I loved this product. But they only seem to l..."
      ]
     },
     "execution_count": 5,
     "metadata": {},
     "output_type": "execute_result"
    }
   ],
   "source": [
    "df.head()"
   ]
  },
  {
   "cell_type": "markdown",
   "id": "b940ce7c",
   "metadata": {},
   "source": [
    "## LLMChain"
   ]
  },
  {
   "cell_type": "code",
   "execution_count": 6,
   "id": "427e1119",
   "metadata": {},
   "outputs": [
    {
     "name": "stdout",
     "output_type": "stream",
     "text": [
      "Requirement already satisfied: langchain-openai in d:\\anaconda3\\envs\\ironhack10\\lib\\site-packages (0.3.14)\n",
      "Requirement already satisfied: langchain-core<1.0.0,>=0.3.53 in d:\\anaconda3\\envs\\ironhack10\\lib\\site-packages (from langchain-openai) (0.3.54)\n",
      "Requirement already satisfied: openai<2.0.0,>=1.68.2 in d:\\anaconda3\\envs\\ironhack10\\lib\\site-packages (from langchain-openai) (1.75.0)\n",
      "Requirement already satisfied: tiktoken<1,>=0.7 in d:\\anaconda3\\envs\\ironhack10\\lib\\site-packages (from langchain-openai) (0.9.0)\n",
      "Requirement already satisfied: langsmith<0.4,>=0.1.125 in d:\\anaconda3\\envs\\ironhack10\\lib\\site-packages (from langchain-core<1.0.0,>=0.3.53->langchain-openai) (0.3.32)\n",
      "Requirement already satisfied: tenacity!=8.4.0,<10.0.0,>=8.1.0 in d:\\anaconda3\\envs\\ironhack10\\lib\\site-packages (from langchain-core<1.0.0,>=0.3.53->langchain-openai) (9.0.0)\n",
      "Requirement already satisfied: jsonpatch<2.0,>=1.33 in d:\\anaconda3\\envs\\ironhack10\\lib\\site-packages (from langchain-core<1.0.0,>=0.3.53->langchain-openai) (1.33)\n",
      "Requirement already satisfied: PyYAML>=5.3 in d:\\anaconda3\\envs\\ironhack10\\lib\\site-packages (from langchain-core<1.0.0,>=0.3.53->langchain-openai) (6.0.2)\n",
      "Requirement already satisfied: packaging<25,>=23.2 in d:\\anaconda3\\envs\\ironhack10\\lib\\site-packages (from langchain-core<1.0.0,>=0.3.53->langchain-openai) (24.2)\n",
      "Requirement already satisfied: typing-extensions>=4.7 in d:\\anaconda3\\envs\\ironhack10\\lib\\site-packages (from langchain-core<1.0.0,>=0.3.53->langchain-openai) (4.12.2)\n",
      "Requirement already satisfied: pydantic<3.0.0,>=2.5.2 in d:\\anaconda3\\envs\\ironhack10\\lib\\site-packages (from langchain-core<1.0.0,>=0.3.53->langchain-openai) (2.10.3)\n",
      "Requirement already satisfied: anyio<5,>=3.5.0 in d:\\anaconda3\\envs\\ironhack10\\lib\\site-packages (from openai<2.0.0,>=1.68.2->langchain-openai) (4.6.2)\n",
      "Requirement already satisfied: distro<2,>=1.7.0 in d:\\anaconda3\\envs\\ironhack10\\lib\\site-packages (from openai<2.0.0,>=1.68.2->langchain-openai) (1.9.0)\n",
      "Requirement already satisfied: httpx<1,>=0.23.0 in d:\\anaconda3\\envs\\ironhack10\\lib\\site-packages (from openai<2.0.0,>=1.68.2->langchain-openai) (0.27.0)\n",
      "Requirement already satisfied: jiter<1,>=0.4.0 in d:\\anaconda3\\envs\\ironhack10\\lib\\site-packages (from openai<2.0.0,>=1.68.2->langchain-openai) (0.6.1)\n",
      "Requirement already satisfied: sniffio in d:\\anaconda3\\envs\\ironhack10\\lib\\site-packages (from openai<2.0.0,>=1.68.2->langchain-openai) (1.3.0)\n",
      "Requirement already satisfied: tqdm>4 in d:\\anaconda3\\envs\\ironhack10\\lib\\site-packages (from openai<2.0.0,>=1.68.2->langchain-openai) (4.67.1)\n",
      "Requirement already satisfied: regex>=2022.1.18 in d:\\anaconda3\\envs\\ironhack10\\lib\\site-packages (from tiktoken<1,>=0.7->langchain-openai) (2024.11.6)\n",
      "Requirement already satisfied: requests>=2.26.0 in d:\\anaconda3\\envs\\ironhack10\\lib\\site-packages (from tiktoken<1,>=0.7->langchain-openai) (2.32.3)\n",
      "Requirement already satisfied: idna>=2.8 in d:\\anaconda3\\envs\\ironhack10\\lib\\site-packages (from anyio<5,>=3.5.0->openai<2.0.0,>=1.68.2->langchain-openai) (3.7)\n",
      "Requirement already satisfied: exceptiongroup>=1.0.2 in d:\\anaconda3\\envs\\ironhack10\\lib\\site-packages (from anyio<5,>=3.5.0->openai<2.0.0,>=1.68.2->langchain-openai) (1.2.2)\n",
      "Requirement already satisfied: certifi in d:\\anaconda3\\envs\\ironhack10\\lib\\site-packages (from httpx<1,>=0.23.0->openai<2.0.0,>=1.68.2->langchain-openai) (2025.1.31)\n",
      "Requirement already satisfied: httpcore==1.* in d:\\anaconda3\\envs\\ironhack10\\lib\\site-packages (from httpx<1,>=0.23.0->openai<2.0.0,>=1.68.2->langchain-openai) (1.0.2)\n",
      "Requirement already satisfied: h11<0.15,>=0.13 in d:\\anaconda3\\envs\\ironhack10\\lib\\site-packages (from httpcore==1.*->httpx<1,>=0.23.0->openai<2.0.0,>=1.68.2->langchain-openai) (0.14.0)\n",
      "Requirement already satisfied: jsonpointer>=1.9 in d:\\anaconda3\\envs\\ironhack10\\lib\\site-packages (from jsonpatch<2.0,>=1.33->langchain-core<1.0.0,>=0.3.53->langchain-openai) (3.0.0)\n",
      "Requirement already satisfied: orjson<4.0.0,>=3.9.14 in d:\\anaconda3\\envs\\ironhack10\\lib\\site-packages (from langsmith<0.4,>=0.1.125->langchain-core<1.0.0,>=0.3.53->langchain-openai) (3.10.16)\n",
      "Requirement already satisfied: requests-toolbelt<2.0.0,>=1.0.0 in d:\\anaconda3\\envs\\ironhack10\\lib\\site-packages (from langsmith<0.4,>=0.1.125->langchain-core<1.0.0,>=0.3.53->langchain-openai) (1.0.0)\n",
      "Requirement already satisfied: zstandard<0.24.0,>=0.23.0 in d:\\anaconda3\\envs\\ironhack10\\lib\\site-packages (from langsmith<0.4,>=0.1.125->langchain-core<1.0.0,>=0.3.53->langchain-openai) (0.23.0)\n",
      "Requirement already satisfied: annotated-types>=0.6.0 in d:\\anaconda3\\envs\\ironhack10\\lib\\site-packages (from pydantic<3.0.0,>=2.5.2->langchain-core<1.0.0,>=0.3.53->langchain-openai) (0.6.0)\n",
      "Requirement already satisfied: pydantic-core==2.27.1 in d:\\anaconda3\\envs\\ironhack10\\lib\\site-packages (from pydantic<3.0.0,>=2.5.2->langchain-core<1.0.0,>=0.3.53->langchain-openai) (2.27.1)\n",
      "Requirement already satisfied: charset-normalizer<4,>=2 in d:\\anaconda3\\envs\\ironhack10\\lib\\site-packages (from requests>=2.26.0->tiktoken<1,>=0.7->langchain-openai) (3.3.2)\n",
      "Requirement already satisfied: urllib3<3,>=1.21.1 in d:\\anaconda3\\envs\\ironhack10\\lib\\site-packages (from requests>=2.26.0->tiktoken<1,>=0.7->langchain-openai) (2.3.0)\n",
      "Requirement already satisfied: colorama in d:\\anaconda3\\envs\\ironhack10\\lib\\site-packages (from tqdm>4->openai<2.0.0,>=1.68.2->langchain-openai) (0.4.6)\n",
      "Note: you may need to restart the kernel to use updated packages.\n"
     ]
    }
   ],
   "source": [
    "pip install langchain-openai"
   ]
  },
  {
   "cell_type": "code",
   "execution_count": 7,
   "id": "e92dff22",
   "metadata": {
    "tags": []
   },
   "outputs": [],
   "source": [
    "from langchain_openai import ChatOpenAI\n",
    "from langchain.prompts import ChatPromptTemplate\n",
    "from langchain.chains import LLMChain"
   ]
  },
  {
   "cell_type": "code",
   "execution_count": 8,
   "id": "943237a7",
   "metadata": {},
   "outputs": [],
   "source": [
    "#Replace None by your own value and justify\n",
    "llm = ChatOpenAI(temperature=None)\n"
   ]
  },
  {
   "cell_type": "code",
   "execution_count": 10,
   "id": "cdcdb42d",
   "metadata": {},
   "outputs": [],
   "source": [
    "prompt = ChatPromptTemplate.from_template(\n",
    "    \"Describe a product called {product} in detail.\"  # Prompt with a variable placeholder\n",
    ")\n"
   ]
  },
  {
   "cell_type": "code",
   "execution_count": 11,
   "id": "d7abc20b",
   "metadata": {},
   "outputs": [
    {
     "name": "stderr",
     "output_type": "stream",
     "text": [
      "C:\\Users\\Mohammed\\AppData\\Local\\Temp\\ipykernel_340\\546483037.py:1: LangChainDeprecationWarning: The class `LLMChain` was deprecated in LangChain 0.1.17 and will be removed in 1.0. Use :meth:`~RunnableSequence, e.g., `prompt | llm`` instead.\n",
      "  chain = LLMChain(llm=llm, prompt=prompt)\n"
     ]
    }
   ],
   "source": [
    "\n",
    "chain = LLMChain(llm=llm, prompt=prompt)"
   ]
  },
  {
   "cell_type": "code",
   "execution_count": 14,
   "id": "ad44d1fb",
   "metadata": {},
   "outputs": [
    {
     "name": "stderr",
     "output_type": "stream",
     "text": [
      "C:\\Users\\Mohammed\\AppData\\Local\\Temp\\ipykernel_340\\2777155482.py:2: LangChainDeprecationWarning: The method `Chain.run` was deprecated in langchain 0.1.0 and will be removed in 1.0. Use :meth:`~invoke` instead.\n",
      "  chain.run(product)\n"
     ]
    },
    {
     "data": {
      "text/plain": [
       "'An electric scooter is a small, lightweight vehicle designed for personal transportation. It typically consists of a narrow platform with two wheels, a handlebar for steering, and an electric motor that provides power for movement. The scooter is powered by a rechargeable battery, which is often located under the platform.\\n\\nElectric scooters are becoming increasingly popular as a convenient and eco-friendly mode of transportation in urban areas. They are easy to maneuver and can be used to navigate through crowded streets and sidewalks. Many models are foldable, making them easy to carry and store when not in use.\\n\\nThe top speed of an electric scooter can vary depending on the model, but most can reach speeds of up to 15-25 miles per hour. They typically have a range of around 15-30 miles on a single charge, depending on factors such as rider weight and terrain.\\n\\nMost electric scooters come equipped with features such as LED lights, a digital display for monitoring battery life and speed, and braking systems for safety. Some models also have additional features such as Bluetooth connectivity, a mobile app for tracking usage, and regenerative braking to help extend battery life.\\n\\nOverall, electric scooters offer a convenient and efficient way to get around town while reducing your carbon footprint. They are suitable for a wide range of riders, from daily commuters to leisurely riders looking to explore their city.'"
      ]
     },
     "execution_count": 14,
     "metadata": {},
     "output_type": "execute_result"
    }
   ],
   "source": [
    "product = \"electric scooter\"  # Choose a product\n",
    "chain.run(product)"
   ]
  },
  {
   "cell_type": "markdown",
   "id": "69b03469",
   "metadata": {},
   "source": [
    "## SimpleSequentialChain"
   ]
  },
  {
   "cell_type": "code",
   "execution_count": 15,
   "id": "febee243",
   "metadata": {},
   "outputs": [],
   "source": [
    "from langchain.chains import SimpleSequentialChain"
   ]
  },
  {
   "cell_type": "code",
   "execution_count": 17,
   "id": "2f31aa8a",
   "metadata": {},
   "outputs": [],
   "source": [
    "llm = ChatOpenAI(temperature=0.9)\n",
    "\n",
    "# prompt template 1\n",
    "first_prompt = ChatPromptTemplate.from_template(\n",
    "        \"Describe a product called {product}.\"\n",
    "\n",
    "    #Repeat the initial query or create a new query that would feed into the second prompt\n",
    ")\n",
    "\n",
    "# Chain 1\n",
    "chain_one = LLMChain(llm=llm, prompt=first_prompt)"
   ]
  },
  {
   "cell_type": "code",
   "execution_count": 18,
   "id": "3f5d5b76",
   "metadata": {},
   "outputs": [],
   "source": [
    "\n",
    "# prompt template 2\n",
    "second_prompt = ChatPromptTemplate.from_template(\n",
    "        \"Now make a social media post using this description: {input}\"\n",
    "\n",
    "    #Write the second prompt query that takes an input variable whose input will come from the previous prompt\"\n",
    ")\n",
    "# chain 2\n",
    "chain_two = LLMChain(llm=llm, prompt=second_prompt)"
   ]
  },
  {
   "cell_type": "code",
   "execution_count": 19,
   "id": "6c1eb2c4",
   "metadata": {},
   "outputs": [],
   "source": [
    "overall_simple_chain = SimpleSequentialChain(chains=[chain_one, chain_two],\n",
    "                                             verbose=True\n",
    "                                            )"
   ]
  },
  {
   "cell_type": "code",
   "execution_count": 20,
   "id": "78458efe",
   "metadata": {},
   "outputs": [
    {
     "name": "stdout",
     "output_type": "stream",
     "text": [
      "\n",
      "\n",
      "\u001b[1m> Entering new SimpleSequentialChain chain...\u001b[0m\n",
      "\u001b[36;1m\u001b[1;3mThe electric scooter is a sleek and portable mode of transportation that runs on battery power. It is designed with a lightweight frame and compact wheels, making it easy to carry and maneuver through crowded streets. The scooter features a powerful electric motor that allows for quick acceleration and smooth cruising speeds. \n",
      "\n",
      "The electric scooter is equipped with a rechargeable lithium-ion battery that can be easily plugged in and charged at home or at a charging station. With a fully charged battery, the scooter can travel for several miles before needing to be recharged. \n",
      "\n",
      "The scooter also comes with a variety of safety features, such as LED lights for increased visibility at night, a responsive braking system, and a sturdy frame for stability while riding. The electric scooter is a convenient and eco-friendly mode of transportation for urban commuters and travelers looking for a fun and efficient way to get around.\u001b[0m\n",
      "\u001b[33;1m\u001b[1;3mCheck out the sleek and portable electric scooter - perfect for navigating crowded streets with its lightweight frame and compact design. With a powerful electric motor and rechargeable battery, this scooter offers quick acceleration and smooth cruising speeds. Stay safe with LED lights, a responsive braking system, and sturdy frame. Convenient, eco-friendly, and fun - the perfect ride for urban commuters and travelers! 🛴🔋 #ElectricScooter #EcoFriendlyTransportation #UrbanCommute\u001b[0m\n",
      "\n",
      "\u001b[1m> Finished chain.\u001b[0m\n"
     ]
    },
    {
     "data": {
      "text/plain": [
       "'Check out the sleek and portable electric scooter - perfect for navigating crowded streets with its lightweight frame and compact design. With a powerful electric motor and rechargeable battery, this scooter offers quick acceleration and smooth cruising speeds. Stay safe with LED lights, a responsive braking system, and sturdy frame. Convenient, eco-friendly, and fun - the perfect ride for urban commuters and travelers! 🛴🔋 #ElectricScooter #EcoFriendlyTransportation #UrbanCommute'"
      ]
     },
     "execution_count": 20,
     "metadata": {},
     "output_type": "execute_result"
    }
   ],
   "source": [
    "overall_simple_chain.run(product)"
   ]
  },
  {
   "cell_type": "markdown",
   "id": "0dd59bda-9d02-44e7-b3d6-2bec61b99d8f",
   "metadata": {},
   "source": [
    "**Repeat the above twice for different products**"
   ]
  },
  {
   "cell_type": "markdown",
   "id": "7b5ce18c",
   "metadata": {},
   "source": [
    "## SequentialChain"
   ]
  },
  {
   "cell_type": "code",
   "execution_count": 21,
   "id": "4c129ef6",
   "metadata": {},
   "outputs": [],
   "source": [
    "from langchain.chains import SequentialChain"
   ]
  },
  {
   "cell_type": "code",
   "execution_count": null,
   "id": "016187ac",
   "metadata": {},
   "outputs": [],
   "source": [
    "llm = ChatOpenAI(temperature=0.9)\n",
    "\n",
    "\n",
    "first_prompt = ChatPromptTemplate.from_template(\"Translate this review to Arabic: {Review}\")\n",
    "\n",
    "chain_one = LLMChain(llm=llm, prompt=first_prompt, output_key=\"arabic_review\")\n"
   ]
  },
  {
   "cell_type": "code",
   "execution_count": null,
   "id": "0fb0730e",
   "metadata": {},
   "outputs": [],
   "source": [
    "second_prompt = ChatPromptTemplate.from_template(\"Summarize this review: {Review}\"\n",
    "    #Write a promplt to summarize a review\n",
    ")\n",
    "\n",
    "chain_two = LLMChain(llm=llm, prompt=second_prompt, output_key=\"summary\")"
   ]
  },
  {
   "cell_type": "code",
   "execution_count": 26,
   "id": "6accf92d",
   "metadata": {},
   "outputs": [],
   "source": [
    "# prompt template 3: translate to english or other language\n",
    "third_prompt = ChatPromptTemplate.from_template(\"Which language is this review in? {Review}\")\n",
    "\n",
    "\n",
    "# chain 3: input= Review and output= language\n",
    "chain_three = LLMChain(llm=llm, prompt=third_prompt, output_key=\"language\")"
   ]
  },
  {
   "cell_type": "code",
   "execution_count": 27,
   "id": "c7a46121",
   "metadata": {},
   "outputs": [],
   "source": [
    "\n",
    "# prompt template 4: follow up message that take as inputs the two previous prompts' variables\n",
    "fourth_prompt = ChatPromptTemplate.from_template(\n",
    "    \"Send a follow-up message based on the summary: {summary} and language: {language}\"\n",
    ")\n",
    "chain_four = LLMChain(llm=llm, prompt=fourth_prompt, output_key=\"message\")\n",
    "\n"
   ]
  },
  {
   "cell_type": "code",
   "execution_count": 28,
   "id": "89603117",
   "metadata": {},
   "outputs": [],
   "source": [
    "# overall_chain: input= Review \n",
    "# and output= English_Review,summary, followup_message\n",
    "overall_chain = SequentialChain(\n",
    "    chains=[chain_one, chain_two, chain_three, chain_four],\n",
    "    input_variables=[\"Review\"],\n",
    "    output_variables=[\"arabic_review\", \"summary\", \"language\", \"message\"],\n",
    "    verbose=True\n",
    ")"
   ]
  },
  {
   "cell_type": "code",
   "execution_count": 29,
   "id": "51b04f45",
   "metadata": {},
   "outputs": [
    {
     "name": "stderr",
     "output_type": "stream",
     "text": [
      "C:\\Users\\Mohammed\\AppData\\Local\\Temp\\ipykernel_340\\1992003631.py:2: LangChainDeprecationWarning: The method `Chain.__call__` was deprecated in langchain 0.1.0 and will be removed in 1.0. Use :meth:`~invoke` instead.\n",
      "  overall_chain(review)\n"
     ]
    },
    {
     "name": "stdout",
     "output_type": "stream",
     "text": [
      "\n",
      "\n",
      "\u001b[1m> Entering new SequentialChain chain...\u001b[0m\n",
      "\n",
      "\u001b[1m> Finished chain.\u001b[0m\n"
     ]
    },
    {
     "data": {
      "text/plain": [
       "{'Review': \"Je trouve le goût médiocre. La mousse ne tient pas, c'est bizarre. J'achète les mêmes dans le commerce et le goût est bien meilleur...\\nVieux lot ou contrefaçon !?\",\n",
       " 'arabic_review': 'أجد الطعم سيء. لا تدوم الرغوة ، هذا غريب. أشتري نفس المنتج في المتاجر والطعم أفضل بكثير ... هل يعود الأمر إلى دفعة قديمة أم تقليد؟',\n",
       " 'summary': \"L'auteur trouve le goût médiocre de la boisson et remarque que la mousse ne tient pas bien, ce qui est inhabituel. Ils pensent que le produit pourrait être un vieux lot ou une contrefaçon, car ils achètent habituellement le même produit dans le commerce avec un goût bien meilleur.\",\n",
       " 'language': 'French',\n",
       " 'message': \"Bonjour,\\n\\nJe suis désolé d'entendre que vous avez eu une mauvaise expérience avec la boisson. Il est possible que vous ayez reçu un vieux lot ou une contrefaçon. Je vous conseille de contacter le fabricant pour signaler le problème et peut-être obtenir un remboursement ou un remplacement. J'espère que votre prochaine expérience sera meilleure.\"}"
      ]
     },
     "execution_count": 29,
     "metadata": {},
     "output_type": "execute_result"
    }
   ],
   "source": [
    "review = df.Review[5]\n",
    "overall_chain(review)"
   ]
  },
  {
   "cell_type": "markdown",
   "id": "3187cf07-458a-4226-bec7-3dec7ee47af2",
   "metadata": {},
   "source": [
    "**Repeat the above twice for different products or reviews**"
   ]
  },
  {
   "cell_type": "markdown",
   "id": "3041ea4c",
   "metadata": {},
   "source": [
    "## Router Chain"
   ]
  },
  {
   "cell_type": "code",
   "execution_count": 30,
   "id": "ade83f4f",
   "metadata": {},
   "outputs": [],
   "source": [
    "physics_template = \"\"\"You are a very smart physics professor. \\\n",
    "You are great at answering questions about physics in a concise\\\n",
    "and easy to understand manner. \\\n",
    "When you don't know the answer to a question you admit\\\n",
    "that you don't know.\n",
    "\n",
    "Here is a question:\n",
    "{input}\"\"\"\n",
    "\n",
    "\n",
    "math_template = \"\"\"You are a very good mathematician. \\\n",
    "You are great at answering math questions. \\\n",
    "You are so good because you are able to break down \\\n",
    "hard problems into their component parts, \n",
    "answer the component parts, and then put them together\\\n",
    "to answer the broader question.\n",
    "\n",
    "Here is a question:\n",
    "{input}\"\"\"\n",
    "\n",
    "history_template = \"\"\"You are a very good historian. \\\n",
    "You have an excellent knowledge of and understanding of people,\\\n",
    "events and contexts from a range of historical periods. \\\n",
    "You have the ability to think, reflect, debate, discuss and \\\n",
    "evaluate the past. You have a respect for historical evidence\\\n",
    "and the ability to make use of it to support your explanations \\\n",
    "and judgements.\n",
    "\n",
    "Here is a question:\n",
    "{input}\"\"\"\n",
    "\n",
    "\n",
    "computerscience_template = \"\"\" You are a successful computer scientist.\\\n",
    "You have a passion for creativity, collaboration,\\\n",
    "forward-thinking, confidence, strong problem-solving capabilities,\\\n",
    "understanding of theories and algorithms, and excellent communication \\\n",
    "skills. You are great at answering coding questions. \\\n",
    "You are so good because you know how to solve a problem by \\\n",
    "describing the solution in imperative steps \\\n",
    "that a machine can easily interpret and you know how to \\\n",
    "choose a solution that has a good balance between \\\n",
    "time complexity and space complexity. \n",
    "\n",
    "Here is a question:\n",
    "{input}\"\"\"\n",
    "\n",
    "biology_template = \"\"\"You are an excellent biologist. \\\n",
    "You have a deep understanding of living organisms, \\\n",
    "from the molecular and cellular level to entire ecosystems. \\\n",
    "You are skilled at observing patterns in nature, analyzing biological data, \\\n",
    "and explaining complex processes like evolution, genetics, physiology, and ecology. \\\n",
    "You can clearly communicate how life functions and adapts, \\\n",
    "and you make connections between different biological concepts \\\n",
    "to answer challenging questions.\n",
    "\n",
    "Here is a question:\n",
    "{input}\"\"\""
   ]
  },
  {
   "cell_type": "code",
   "execution_count": 31,
   "id": "5f590e9f",
   "metadata": {},
   "outputs": [],
   "source": [
    "prompt_infos = [\n",
    "    {\n",
    "        \"name\": \"physics\", \n",
    "        \"description\": \"Good for answering questions about physics\", \n",
    "        \"prompt_template\": physics_template\n",
    "    },\n",
    "    {\n",
    "        \"name\": \"math\", \n",
    "        \"description\": \"Good for answering math questions\", \n",
    "        \"prompt_template\": math_template\n",
    "    },\n",
    "    {\n",
    "        \"name\": \"History\", \n",
    "        \"description\": \"Good for answering history questions\", \n",
    "        \"prompt_template\": history_template\n",
    "    },\n",
    "    {\n",
    "        \"name\": \"computer science\", \n",
    "        \"description\": \"Good for answering computer science questions\", \n",
    "        \"prompt_template\": computerscience_template\n",
    "    },\n",
    "    {\n",
    "        \"name\": \"biology\",\n",
    "        \"description\": \"Good for answering biology questions\",\n",
    "        \"prompt_template\": biology_template\n",
    "    }\n",
    "]"
   ]
  },
  {
   "cell_type": "code",
   "execution_count": 32,
   "id": "31b06fc8",
   "metadata": {},
   "outputs": [],
   "source": [
    "from langchain.chains.router import MultiPromptChain\n",
    "from langchain.chains.router.llm_router import LLMRouterChain,RouterOutputParser\n",
    "from langchain.prompts import PromptTemplate"
   ]
  },
  {
   "cell_type": "code",
   "execution_count": 33,
   "id": "f3f50bcc",
   "metadata": {},
   "outputs": [],
   "source": [
    "llm = ChatOpenAI(temperature=0)"
   ]
  },
  {
   "cell_type": "code",
   "execution_count": 34,
   "id": "8eefec24",
   "metadata": {},
   "outputs": [],
   "source": [
    "destination_chains = {}\n",
    "for p_info in prompt_infos:\n",
    "    name = p_info[\"name\"]\n",
    "    prompt_template = p_info[\"prompt_template\"]\n",
    "    prompt = ChatPromptTemplate.from_template(template=prompt_template)\n",
    "    chain = LLMChain(llm=llm, prompt=prompt)\n",
    "    destination_chains[name] = chain  \n",
    "    \n",
    "destinations = [f\"{p['name']}: {p['description']}\" for p in prompt_infos]\n",
    "destinations_str = \"\\n\".join(destinations)"
   ]
  },
  {
   "cell_type": "code",
   "execution_count": 35,
   "id": "9f98018a",
   "metadata": {},
   "outputs": [],
   "source": [
    "default_prompt = ChatPromptTemplate.from_template(\"{input}\")\n",
    "default_chain = LLMChain(llm=llm, prompt=default_prompt)"
   ]
  },
  {
   "cell_type": "code",
   "execution_count": 36,
   "id": "11b2e2ba",
   "metadata": {},
   "outputs": [],
   "source": [
    "MULTI_PROMPT_ROUTER_TEMPLATE = \"\"\"Given a raw text input to a \\\n",
    "language model select the model prompt best suited for the input. \\\n",
    "You will be given the names of the available prompts and a \\\n",
    "description of what the prompt is best suited for. \\\n",
    "You may also revise the original input if you think that revising\\\n",
    "it will ultimately lead to a better response from the language model.\n",
    "\n",
    "<< FORMATTING >>\n",
    "Return a markdown code snippet with a JSON object formatted to look like:\n",
    "```json\n",
    "{{{{\n",
    "    \"destination\": string \\ name of the prompt to use or \"DEFAULT\"\n",
    "    \"next_inputs\": string \\ a potentially modified version of the original input\n",
    "}}}}\n",
    "```\n",
    "\n",
    "REMEMBER: \"destination\" MUST be one of the candidate prompt \\\n",
    "names specified below OR it can be \"DEFAULT\" if the input is not\\\n",
    "well suited for any of the candidate prompts.\n",
    "REMEMBER: \"next_inputs\" can just be the original input \\\n",
    "if you don't think any modifications are needed.\n",
    "\n",
    "<< CANDIDATE PROMPTS >>\n",
    "{destinations}\n",
    "\n",
    "<< INPUT >>\n",
    "{{input}}\n",
    "\n",
    "<< OUTPUT (remember to include the ```json)>>\"\"\""
   ]
  },
  {
   "cell_type": "code",
   "execution_count": 37,
   "id": "1387109d",
   "metadata": {},
   "outputs": [],
   "source": [
    "router_template = MULTI_PROMPT_ROUTER_TEMPLATE.format(\n",
    "    destinations=destinations_str\n",
    ")\n",
    "router_prompt = PromptTemplate(\n",
    "    template=router_template,\n",
    "    input_variables=[\"input\"],\n",
    "    output_parser=RouterOutputParser(),\n",
    ")\n",
    "\n",
    "router_chain = LLMRouterChain.from_llm(llm, router_prompt)"
   ]
  },
  {
   "cell_type": "code",
   "execution_count": 38,
   "id": "2fb7d560",
   "metadata": {},
   "outputs": [
    {
     "name": "stderr",
     "output_type": "stream",
     "text": [
      "C:\\Users\\Mohammed\\AppData\\Local\\Temp\\ipykernel_340\\3038952769.py:1: LangChainDeprecationWarning: Please see migration guide here for recommended implementation: https://python.langchain.com/docs/versions/migrating_chains/multi_prompt_chain/\n",
      "  chain = MultiPromptChain(router_chain=router_chain,\n"
     ]
    }
   ],
   "source": [
    "chain = MultiPromptChain(router_chain=router_chain, \n",
    "                         destination_chains=destination_chains, \n",
    "                         default_chain=default_chain, verbose=True\n",
    "                        )"
   ]
  },
  {
   "cell_type": "code",
   "execution_count": 39,
   "id": "d86b2131",
   "metadata": {},
   "outputs": [
    {
     "name": "stdout",
     "output_type": "stream",
     "text": [
      "\n",
      "\n",
      "\u001b[1m> Entering new MultiPromptChain chain...\u001b[0m\n",
      "physics: {'input': 'What is black body radiation?'}\n",
      "\u001b[1m> Finished chain.\u001b[0m\n"
     ]
    },
    {
     "data": {
      "text/plain": [
       "\"Black body radiation refers to the electromagnetic radiation emitted by a perfect black body, which is an idealized physical body that absorbs all incident electromagnetic radiation and emits radiation at all frequencies. The radiation emitted by a black body depends only on its temperature and follows a specific distribution known as Planck's law. This radiation is important in understanding concepts such as thermal radiation and the behavior of objects at different temperatures.\""
      ]
     },
     "execution_count": 39,
     "metadata": {},
     "output_type": "execute_result"
    }
   ],
   "source": [
    "chain.run(\"What is black body radiation?\")"
   ]
  },
  {
   "cell_type": "code",
   "execution_count": 40,
   "id": "3b717379",
   "metadata": {},
   "outputs": [
    {
     "name": "stdout",
     "output_type": "stream",
     "text": [
      "\n",
      "\n",
      "\u001b[1m> Entering new MultiPromptChain chain...\u001b[0m\n",
      "math: {'input': 'what is 2 + 2'}\n",
      "\u001b[1m> Finished chain.\u001b[0m\n"
     ]
    },
    {
     "data": {
      "text/plain": [
       "'2 + 2 is equal to 4.'"
      ]
     },
     "execution_count": 40,
     "metadata": {},
     "output_type": "execute_result"
    }
   ],
   "source": [
    "chain.run(\"what is 2 + 2\")"
   ]
  },
  {
   "cell_type": "code",
   "execution_count": 41,
   "id": "29e5be01",
   "metadata": {},
   "outputs": [
    {
     "name": "stdout",
     "output_type": "stream",
     "text": [
      "\n",
      "\n",
      "\u001b[1m> Entering new MultiPromptChain chain...\u001b[0m\n",
      "biology: {'input': 'Why does every cell in our body contain DNA?'}\n",
      "\u001b[1m> Finished chain.\u001b[0m\n"
     ]
    },
    {
     "data": {
      "text/plain": [
       "'Every cell in our body contains DNA because DNA is the genetic material that carries the instructions for the development, functioning, and reproduction of all living organisms. DNA contains the information needed to build and maintain an organism, including the proteins that make up our cells and tissues. \\n\\nHaving DNA in every cell ensures that each cell has the necessary genetic information to carry out its specific functions and to replicate itself accurately during cell division. This genetic information is crucial for maintaining the integrity and stability of our cells and for passing on genetic traits to future generations. \\n\\nAdditionally, DNA serves as a blueprint for the regulation of gene expression, which determines how genes are turned on or off in response to different environmental cues. This allows our cells to adapt and respond to changes in their surroundings, ensuring the proper functioning of our bodies. \\n\\nIn summary, the presence of DNA in every cell is essential for the proper development, growth, and functioning of all living organisms, including humans.'"
      ]
     },
     "execution_count": 41,
     "metadata": {},
     "output_type": "execute_result"
    }
   ],
   "source": [
    "chain.run(\"Why does every cell in our body contain DNA?\")"
   ]
  },
  {
   "cell_type": "markdown",
   "id": "09e0c60b-7ae0-453e-9467-142d8dafee6e",
   "metadata": {},
   "source": [
    "**Repeat the above at least once for different inputs and chains executions - Be creative!**"
   ]
  },
  {
   "cell_type": "code",
   "execution_count": 42,
   "id": "aef8a0f6",
   "metadata": {},
   "outputs": [
    {
     "name": "stdout",
     "output_type": "stream",
     "text": [
      "A Bluetooth speaker is a portable device that allows you to stream music from your smartphone, tablet, or other Bluetooth-enabled devices wirelessly. It is equipped with built-in Bluetooth technology that allows for a seamless connection to your device without the need for any cords or cables.\n",
      "\n",
      "Bluetooth speakers come in a variety of shapes, sizes, and designs, ranging from compact and lightweight models to larger, more powerful options. They are typically powered by a rechargeable battery, allowing you to take your music with you on the go.\n",
      "\n",
      "Many Bluetooth speakers offer additional features such as water resistance, voice control, and built-in microphone for hands-free calling. Some models also come with LED lights, EQ settings, and the ability to connect multiple speakers for a surround sound experience.\n",
      "\n",
      "The sound quality of Bluetooth speakers can vary, but most models offer impressive audio performance with clear vocals, deep bass, and crisp highs. Some high-end models even come with advanced audio technologies such as aptX HD and AAC for enhanced sound quality.\n",
      "\n",
      "Overall, Bluetooth speakers are a convenient and versatile way to enjoy your favorite music wherever you go, whether you're at home, in the office, or outdoors. With their wireless connectivity and compact design, they are the perfect companion for music lovers on the move.\n"
     ]
    }
   ],
   "source": [
    "from langchain_openai import ChatOpenAI\n",
    "from langchain.prompts import ChatPromptTemplate\n",
    "from langchain.chains import LLMChain\n",
    "\n",
    "llm = ChatOpenAI(temperature=0.7)\n",
    "\n",
    "prompt = ChatPromptTemplate.from_template(\n",
    "    \"Describe a product called {product} in detail.\"\n",
    ")\n",
    "\n",
    "chain = LLMChain(llm=llm, prompt=prompt)\n",
    "\n",
    "product = \"Bluetooth Speaker\"\n",
    "print(chain.run(product))\n"
   ]
  },
  {
   "cell_type": "code",
   "execution_count": 43,
   "id": "48aa3d9c",
   "metadata": {},
   "outputs": [
    {
     "name": "stdout",
     "output_type": "stream",
     "text": [
      "\n",
      "\n",
      "\u001b[1m> Entering new SimpleSequentialChain chain...\u001b[0m\n",
      "\u001b[36;1m\u001b[1;3mThe Smart Coffee Mug is a cutting-edge, technologically advanced mug that is designed to enhance your coffee drinking experience. This mug is equipped with built-in sensors and a digital display that allows you to customize and control the temperature of your drink with precision.\n",
      "\n",
      "The Smart Coffee Mug features a sleek, modern design and is made of high-quality, durable materials. It is also insulated to keep your hot beverages hot and your cold beverages cold for an extended period of time.\n",
      "\n",
      "With the Smart Coffee Mug, you can say goodbye to lukewarm coffee or tea. Simply set your desired temperature on the digital display, and the mug will automatically heat or cool your drink to that perfect temperature. You can even save your preferred settings for future use.\n",
      "\n",
      "In addition, the Smart Coffee Mug can connect to your smartphone via Bluetooth, allowing you to track your caffeine intake, receive drink recommendations, and even order coffee from your favorite cafes with just a few taps on your phone.\n",
      "\n",
      "Overall, the Smart Coffee Mug is a must-have for coffee enthusiasts who want to enjoy their favorite drinks at the optimal temperature, every time.\u001b[0m\n",
      "\u001b[33;1m\u001b[1;3mElevate your coffee game with the Smart Coffee Mug - the perfect blend of technology and style! ☕️🔥 Control your drink's temperature with precision, track your caffeine intake, and order from your favorite cafes all with this cutting-edge mug. Say goodbye to lukewarm coffee forever! #SmartCoffeeMug #CoffeeLovers #TechSavvyCaffeineFix\u001b[0m\n",
      "\n",
      "\u001b[1m> Finished chain.\u001b[0m\n",
      "Elevate your coffee game with the Smart Coffee Mug - the perfect blend of technology and style! ☕️🔥 Control your drink's temperature with precision, track your caffeine intake, and order from your favorite cafes all with this cutting-edge mug. Say goodbye to lukewarm coffee forever! #SmartCoffeeMug #CoffeeLovers #TechSavvyCaffeineFix\n",
      "\n",
      "\n",
      "\u001b[1m> Entering new SimpleSequentialChain chain...\u001b[0m\n",
      "\u001b[36;1m\u001b[1;3mThe Electric Toothbrush is a high-tech dental hygiene tool that provides a more efficient and thorough clean compared to manual toothbrushes. This product features a vibrating or rotating brush head that effectively removes plaque and debris from teeth and gums. It is powered by a rechargeable battery, making it convenient and easy to use.\n",
      "\n",
      "The Electric Toothbrush typically has multiple brushing modes, such as standard clean, sensitive, gum care, and whitening, allowing users to customize their brushing experience based on their specific dental needs. Some models even come with built-in timers and pressure sensors to help users brush for the recommended two minutes and avoid damaging their teeth and gums.\n",
      "\n",
      "Overall, the Electric Toothbrush is a modern and innovative tool that promotes better oral health and a brighter smile.\u001b[0m\n",
      "\u001b[33;1m\u001b[1;3m\"Upgrade your dental routine with our Electric Toothbrush - the high-tech solution for a cleaner, healthier smile! 🦷✨ #electrictoothbrush #dentalhealth #smilebright\"\u001b[0m\n",
      "\n",
      "\u001b[1m> Finished chain.\u001b[0m\n",
      "\"Upgrade your dental routine with our Electric Toothbrush - the high-tech solution for a cleaner, healthier smile! 🦷✨ #electrictoothbrush #dentalhealth #smilebright\"\n"
     ]
    }
   ],
   "source": [
    "from langchain.chains import SimpleSequentialChain\n",
    "\n",
    "llm = ChatOpenAI(temperature=0.9)\n",
    "\n",
    "first_prompt = ChatPromptTemplate.from_template(\n",
    "    \"Describe a product called {product}.\"\n",
    ")\n",
    "chain_one = LLMChain(llm=llm, prompt=first_prompt)\n",
    "\n",
    "second_prompt = ChatPromptTemplate.from_template(\n",
    "    \"Write an Instagram caption for this product description: {input}\"\n",
    ")\n",
    "chain_two = LLMChain(llm=llm, prompt=second_prompt)\n",
    "\n",
    "overall_simple_chain = SimpleSequentialChain(chains=[chain_one, chain_two], verbose=True)\n",
    "\n",
    "print(overall_simple_chain.run(\"Smart Coffee Mug\"))\n",
    "print(overall_simple_chain.run(\"Electric Toothbrush\"))\n"
   ]
  },
  {
   "cell_type": "code",
   "execution_count": 46,
   "id": "cac5c3bd",
   "metadata": {},
   "outputs": [
    {
     "name": "stdout",
     "output_type": "stream",
     "text": [
      "\n",
      "\n",
      "\u001b[1m> Entering new SequentialChain chain...\u001b[0m\n",
      "\n",
      "\u001b[1m> Finished chain.\u001b[0m\n",
      "{'Review': 'I ordered a king size set. My only criticism would be that I wish seller would offer the king size set with 4 pillowcases. I separately ordered a two pack of pillowcases so I could have a total of four. When I saw the two packages, it looked like the color did not exactly match. Customer service was excellent about sending me two more pillowcases so I would have four that matched. Excellent! For the cost of these sheets, I am satisfied with the characteristics and coolness of the sheets.', 'french_review': \"J'ai commandé un ensemble king size. Ma seule critique serait que je souhaite que le vendeur propose l'ensemble king size avec 4 taies d'oreiller. J'ai commandé séparément un lot de deux taies d'oreiller pour en avoir un total de quatre. Lorsque j'ai vu les deux paquets, il semblait que la couleur ne correspondait pas exactement. Le service client a été excellent en m'envoyant deux taies d'oreiller supplémentaires pour que j'aie quatre taies assorties. Excellent! Pour le prix de ces draps, je suis satisfait des caractéristiques et de la fraîcheur des draps.\", 'summary': 'The reviewer ordered a king size sheet set and separately purchased extra pillowcases, but found that the colors did not match. However, customer service was excellent in sending matching pillowcases. Despite this minor issue, the reviewer is overall satisfied with the quality and price of the sheets.', 'language': 'English', 'message': \"Hello,\\n\\nI wanted to follow up on your recent purchase of a king size sheet set and extra pillowcases. I'm glad to hear that despite the color mismatch issue, our customer service was able to send you matching pillowcases promptly. We strive to provide the best possible experience for our customers and I'm pleased to hear that you are overall satisfied with the quality and price of the sheets. If you have any further feedback or need assistance, please don't hesitate to reach out. Thank you for choosing our products.\"}\n",
      "\n",
      "\n",
      "\u001b[1m> Entering new SequentialChain chain...\u001b[0m\n",
      "\n",
      "\u001b[1m> Finished chain.\u001b[0m\n",
      "{'Review': 'I loved the waterproof sac, although the opening was made of a hard plastic. I don’t know if that would break easily. But I couldn’t turn my phone on, once it was in the pouch.', 'french_review': \"J'ai adoré le sac étanche, bien que l'ouverture soit en plastique dur. Je ne sais pas si cela se casserait facilement. Mais je n'ai pas pu allumer mon téléphone une fois qu'il était dans la pochette.\", 'summary': 'The reviewer enjoyed the waterproof sac overall, but had concerns about the durability of the hard plastic opening. They also had issues with using their phone while it was in the pouch.', 'language': 'English', 'message': 'Thank you for your feedback on the waterproof sac. We appreciate your positive review overall and will take your concerns about the durability of the hard plastic opening and usability with phones into consideration for future improvements. If you have any further suggestions or feedback, please feel free to reach out to us.'}\n",
      "\n",
      "\n",
      "\u001b[1m> Entering new SequentialChain chain...\u001b[0m\n",
      "\n",
      "\u001b[1m> Finished chain.\u001b[0m\n",
      "{'Review': \"This mattress had a small hole in the top of it (took forever to find where it was), and the patches that they provide did not work, maybe because it's the top of the mattress where it's kind of like fabric and a patch won't stick. Maybe I got unlucky with a defective mattress, but where's quality assurance for this company? That flat out should not happen. Emphasis on flat. Cause that's what the mattress was. Seriously horrible experience, ruined my friend's stay with me. Then they make you ship it back instead of just providing a refund, which is also super annoying to pack up an air mattress and take it to the UPS store. This company is the worst, and this mattress is the worst.\", 'french_review': \"Ce matelas avait un petit trou sur le dessus (il a fallu une éternité pour le trouver), et les rustines qu'ils fournissent ne fonctionnaient pas, peut-être parce que c'est le dessus du matelas où c'est un peu comme du tissu et une rustine ne collera pas. Peut-être que j'ai eu la malchance d'avoir un matelas défectueux, mais où est l'assurance qualité pour cette entreprise ? Ça ne devrait tout simplement pas arriver. Insistance sur le fait que c'était plat. Parce que c'est tout ce qu'était le matelas. Expérience vraiment horrible, a gâché le séjour de mon ami avec moi. Ensuite, ils vous obligent à le renvoyer au lieu de simplement vous rembourser, ce qui est également super irritant de devoir emballer un matelas pneumatique et de l'emmener au magasin UPS. Cette entreprise est la pire, et ce matelas est le pire.\", 'summary': 'This review criticizes a mattress for having a small hole that was difficult to repair with the patches provided. The reviewer questions the quality assurance of the company and expresses frustration with the flatness of the mattress. They also mention the inconvenience of having to ship the mattress back for a refund. Overall, the reviewer had a horrible experience and warns others to avoid this company and their product.', 'language': 'This review is in English.', 'message': 'We apologize for the inconvenience and frustration you experienced with our product. We are sorry to hear about the issues you encountered with the mattress and the difficulty in repairing the small hole. We take quality assurance seriously and will investigate this matter further to prevent similar issues in the future. We understand your disappointment and inconvenience with the return process and will work to improve our customer service. Thank you for your feedback, and we will take your warning into consideration to better serve our customers in the future.'}\n"
     ]
    }
   ],
   "source": [
    "from langchain.chains import SequentialChain\n",
    "\n",
    "llm = ChatOpenAI(temperature=0.9)\n",
    "\n",
    "first_prompt = ChatPromptTemplate.from_template(\"Translate this review to French: {Review}\")\n",
    "chain_one = LLMChain(llm=llm, prompt=first_prompt, output_key=\"french_review\")\n",
    "\n",
    "second_prompt = ChatPromptTemplate.from_template(\"Summarize this review: {Review}\")\n",
    "chain_two = LLMChain(llm=llm, prompt=second_prompt, output_key=\"summary\")\n",
    "\n",
    "third_prompt = ChatPromptTemplate.from_template(\"Which language is this review in? {Review}\")\n",
    "chain_three = LLMChain(llm=llm, prompt=third_prompt, output_key=\"language\")\n",
    "\n",
    "fourth_prompt = ChatPromptTemplate.from_template(\n",
    "    \"Send a follow-up message in {language} based on this summary: {summary}\"\n",
    ")\n",
    "chain_four = LLMChain(llm=llm, prompt=fourth_prompt, output_key=\"message\")\n",
    "\n",
    "overall_chain = SequentialChain(\n",
    "    chains=[chain_one, chain_two, chain_three, chain_four],\n",
    "    input_variables=[\"Review\"],\n",
    "    output_variables=[\"french_review\", \"summary\", \"language\", \"message\"],\n",
    "    verbose=True\n",
    ")\n",
    "\n",
    "if len(df) >= 3:\n",
    "    review_1 = df.Review.iloc[0]\n",
    "    review_2 = df.Review.iloc[1]\n",
    "    review_3 = df.Review.iloc[2]\n",
    "else:\n",
    "    print(\"Not enough reviews to run all chains.\")\n",
    "\n",
    "\n",
    "print(overall_chain(review_1))\n",
    "print(overall_chain(review_2))\n",
    "print(overall_chain(review_3))\n"
   ]
  },
  {
   "cell_type": "code",
   "execution_count": 47,
   "id": "65b81a68",
   "metadata": {},
   "outputs": [
    {
     "data": {
      "text/plain": [
       "'\"How does recursion work in programming?\" is a software tool designed to help beginners understand and master the concept of recursion in programming. Recursion is a fundamental programming technique in which a function calls itself in order to solve a problem. This tool provides a comprehensive explanation of how recursion works, along with examples and exercises to reinforce learning.\\n\\nThe product features a user-friendly interface that guides users through the basics of recursion, including the concept of base cases, recursive cases, and the call stack. It also covers common pitfalls and best practices when using recursion in programming.\\n\\nIn addition to theoretical explanations, \"How does recursion work in programming?\" also offers interactive coding challenges where users can practice writing recursive functions in various programming languages, such as Python, Java, and C++. These challenges are designed to gradually increase in difficulty, allowing users to build their skills and confidence in using recursion effectively.\\n\\nOverall, \"How does recursion work in programming?\" is a valuable tool for anyone looking to deepen their understanding of recursion and improve their problem-solving skills in programming. With its clear explanations, hands-on exercises, and practical examples, this product is an essential resource for aspiring programmers and computer science students.'"
      ]
     },
     "execution_count": 47,
     "metadata": {},
     "output_type": "execute_result"
    }
   ],
   "source": [
    "chain.run(\"What is black body radiation?\")\n",
    "chain.run(\"what is 2 + 2\")\n",
    "chain.run(\"Why does every cell in our body contain DNA?\")\n",
    "chain.run(\"Explain the impact of World War 2 on global politics\")\n",
    "chain.run(\"How does recursion work in programming?\")\n"
   ]
  }
 ],
 "metadata": {
  "kernelspec": {
   "display_name": "Ironhack10",
   "language": "python",
   "name": "python3"
  },
  "language_info": {
   "codemirror_mode": {
    "name": "ipython",
    "version": 3
   },
   "file_extension": ".py",
   "mimetype": "text/x-python",
   "name": "python",
   "nbconvert_exporter": "python",
   "pygments_lexer": "ipython3",
   "version": "3.10.13"
  }
 },
 "nbformat": 4,
 "nbformat_minor": 5
}
